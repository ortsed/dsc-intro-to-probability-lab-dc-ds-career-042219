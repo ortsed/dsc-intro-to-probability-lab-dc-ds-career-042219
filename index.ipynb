{
 "cells": [
  {
   "cell_type": "markdown",
   "metadata": {},
   "source": [
    "# Introduction to Probability - Lab\n",
    "\n",
    "## Introduction\n",
    "\n",
    "Now that you know what sets are, we can go on and work with two sets that are of key importance when talking about probability: the event space and the sample space. These two concepts are foundational for calculating probabilities when assuming each event in the event space *has a same probability of happening*. Typical examples are rolling a dice (if the dice is \"fair\", the chance of throwing each number between 1 and 6 is 1/6) and flipping a coin (1/2 heads vs tails). You'll get a better sense of how all of this works in this lab.\n",
    "\n",
    "## Objectives\n",
    "\n",
    "You will be able to:\n",
    "\n",
    "- Learn about experiments, outcomes and event space\n",
    "- Understand probability through relative frequency\n",
    "- Learn about the probability axioms\n",
    "- Learn about the addition law of probability\n",
    "- Learn that where each outcome is equally likely, the probability is equal to number of outcomes in the event space divided by number of outcomes in the sample space\n",
    "\n",
    "\n",
    "##  Sample space, event space and the law of relative frequency\n",
    "\n",
    "#### a. Let's throw a dice once\n",
    "\n",
    "First, create a set `roll_dice` that holds the sample space of rolling a 6-sided dice once."
   ]
  },
  {
   "cell_type": "code",
   "execution_count": 5,
   "metadata": {},
   "outputs": [],
   "source": [
    "roll_dice = set(range(1,7))"
   ]
  },
  {
   "cell_type": "code",
   "execution_count": 6,
   "metadata": {},
   "outputs": [
    {
     "data": {
      "text/plain": [
       "{1, 2, 3, 4, 5, 6}"
      ]
     },
     "execution_count": 6,
     "metadata": {},
     "output_type": "execute_result"
    }
   ],
   "source": [
    "roll_dice"
   ]
  },
  {
   "cell_type": "markdown",
   "metadata": {},
   "source": [
    "Now, let's assume that the event space is defined by \"throwing a number higher than 4\". This means that we consider the outcome \"successful\" if a 5 or a 6 is thrown. Create a set that holds these values."
   ]
  },
  {
   "cell_type": "code",
   "execution_count": 7,
   "metadata": {},
   "outputs": [],
   "source": [
    "event = {5,6}"
   ]
  },
  {
   "cell_type": "markdown",
   "metadata": {},
   "source": [
    "Now use the formula $P(E) = \\dfrac{|E|}{|S|}$ (this formula is called \"Laplace's formula\" and strongly related to the law of relative frequency) to calculate the probability."
   ]
  },
  {
   "cell_type": "code",
   "execution_count": 8,
   "metadata": {},
   "outputs": [
    {
     "data": {
      "text/plain": [
       "0.3333333333333333"
      ]
     },
     "execution_count": 8,
     "metadata": {},
     "output_type": "execute_result"
    }
   ],
   "source": [
    "prob_5_6 = len(event)/len(roll_dice)\n",
    "prob_5_6  # 0.3333333333333333"
   ]
  },
  {
   "cell_type": "markdown",
   "metadata": {},
   "source": [
    "Using this formula, it should be clear that the answer is 1/3 or 0.3333....  \n",
    "\n",
    "#### b. Now, let's simulate rolling dice to see how the law of relative frequency works.\n",
    "\n",
    "As mentioned in the lecture, the law of relative frequency can be used to prove certain probabilities. But how does this work exactly? You're about to find out!\n",
    "\n",
    "$$P(E) = \\lim_{n\\rightarrow\\infty} \\dfrac{S{(n)}}{n}$$\n",
    "\n",
    "As you can see in the formula, the law states that when repeating an experiment $n$ times, where $n$ is very big, and you divide the number of \"good\" outcomes by the sample space (here we call it event E), you get to the probability of the event E. It should be clear that we get a more accurate number for P(E) when $n$ grows.\n",
    "\n",
    "Let's see how this works. First, let's randomly generate values between 1 and 6. You can use `numpy` (imported as `np`) to generate random integers between 1 and 6 by setting the correct arguments. The `np.random` module is a very useful tool for this. We helped you with the code here, but you'll get more practice and a thorough explanation later on!"
   ]
  },
  {
   "cell_type": "code",
   "execution_count": 9,
   "metadata": {},
   "outputs": [
    {
     "data": {
      "text/plain": [
       "2"
      ]
     },
     "execution_count": 9,
     "metadata": {},
     "output_type": "execute_result"
    }
   ],
   "source": [
    "import numpy as np\n",
    "np.random.randint(1,7) # you will get a random value between 1 and 6. See how it changes when you rerun"
   ]
  },
  {
   "cell_type": "markdown",
   "metadata": {},
   "source": [
    "Now, let's repeat this experiment 10 times, then 1000 times, then 1 million times, then 100 million times. \n",
    "You can do this by specifying the argument `size` within the numpy function used above. Store the values in the pre-defined variables below."
   ]
  },
  {
   "cell_type": "code",
   "execution_count": 27,
   "metadata": {},
   "outputs": [],
   "source": [
    "np.random.seed(12345) # to make sure there is no randomness\n",
    "\n",
    "dice_10 = np.random.randint(1,7,size=10)\n",
    "dice_1k = np.random.randint(1,7,size= 1000)\n",
    "dice_1m = np.random.randint(1,7,size=1000000)\n",
    "dice_100m = np.random.randint(1,7,size=100000000)"
   ]
  },
  {
   "cell_type": "code",
   "execution_count": 24,
   "metadata": {},
   "outputs": [],
   "source": [
    "dice_10 = np.random.randint(1,7,size=10)"
   ]
  },
  {
   "cell_type": "markdown",
   "metadata": {},
   "source": [
    "next, let's count the number of \"events\". Remember that an event here is defined as throwing a 5 or a 6. Store them in the values below."
   ]
  },
  {
   "cell_type": "code",
   "execution_count": 29,
   "metadata": {},
   "outputs": [],
   "source": [
    "event_10 = [x for x in dice_10 if x in event]\n",
    "event_1k = [x for x in dice_1k if x in event]\n",
    "event_1m = [x for x in dice_1m if x in event]\n",
    "event_100m = [x for x in dice_100m if x in event]"
   ]
  },
  {
   "cell_type": "markdown",
   "metadata": {},
   "source": [
    "Next, you'll divide the number of events for each $n$ by the respective values for $n$. What do you see?"
   ]
  },
  {
   "cell_type": "code",
   "execution_count": 30,
   "metadata": {},
   "outputs": [
    {
     "data": {
      "text/plain": [
       "[6, 6, 5, 6, 6]"
      ]
     },
     "execution_count": 30,
     "metadata": {},
     "output_type": "execute_result"
    }
   ],
   "source": [
    "event_10"
   ]
  },
  {
   "cell_type": "code",
   "execution_count": 31,
   "metadata": {},
   "outputs": [
    {
     "data": {
      "text/plain": [
       "(0.5, 0.331, 0.333657, 0.33329752)"
      ]
     },
     "execution_count": 31,
     "metadata": {},
     "output_type": "execute_result"
    }
   ],
   "source": [
    "prob_10 = len(event_10)/len(dice_10)\n",
    "prob_1k = len(event_1k)/len(dice_1k)\n",
    "prob_1m = len(event_1m)/len(dice_1m)\n",
    "prob_100m = len(event_100m)/len(dice_100m)\n",
    "prob_10, prob_1k, prob_1m, prob_100m  # 0.5 0.331 0.333657 0.33329752"
   ]
  },
  {
   "cell_type": "code",
   "execution_count": null,
   "metadata": {},
   "outputs": [],
   "source": []
  },
  {
   "cell_type": "markdown",
   "metadata": {},
   "source": [
    "You see that the probability converges to 0.3333333... for higher values of $n$. \n",
    "\n",
    "##  The Probability Axioms\n",
    "\n",
    "You're working at the United Nations, and want to get a better sense of the world population. \n",
    "\n",
    "You come across some numbers and find the list of probabilities of being an inhabitant for each of the seven continents (rounded up to 3 digits):\n",
    "\n",
    "- P(Africa) = 0.161\n",
    "- P(Antarctica) = 0.000\n",
    "- P(Asia) = 0.598\n",
    "- P(Europe) = 0.10\n",
    "- P(North-America) = 0.079\n",
    "- P(Australia) = 0.005\n",
    "- P(South-America) = 0.057\n",
    "\n",
    "store these values using the variable names below:"
   ]
  },
  {
   "cell_type": "code",
   "execution_count": 32,
   "metadata": {},
   "outputs": [],
   "source": [
    "P_afr = .161\n",
    "P_ant = .000\n",
    "P_as = .598\n",
    "P_eur = .10\n",
    "P_na = .079\n",
    "P_aus = .005\n",
    "P_sa = .057"
   ]
  },
  {
   "cell_type": "markdown",
   "metadata": {},
   "source": [
    "Now create the sample space set names `continents`. Store the sample space in a numpy array."
   ]
  },
  {
   "cell_type": "code",
   "execution_count": 33,
   "metadata": {},
   "outputs": [
    {
     "name": "stdout",
     "output_type": "stream",
     "text": [
      "[0.161 0.    0.598 0.1   0.079 0.005 0.057]\n"
     ]
    }
   ],
   "source": [
    "continents = np.array([P_afr, P_ant, P_as, P_eur, P_na, P_aus, P_sa])\n",
    "print(continents)"
   ]
  },
  {
   "cell_type": "markdown",
   "metadata": {},
   "source": [
    "We want to make sure that the three probability axioms are fulfilled, because they assure us that $(\\Omega,E,P)$ is a **probability space**:\n",
    "\n",
    "- if we have a sample space $S$ (or $\\Omega$)\n",
    "- if we have an event space $E$ and a probability measure $P$, \n",
    "- **and** the three probability axioms are fulfilled, \n",
    "\n",
    "The third axiom is fairly ad hoc, and you will basically have to deduce from the context whether individual events are independent. It is fairly straightforward, however, that people can not be inhabitants of two continents at the same time, so for now, we will assume that we're good for axiom three.\n",
    "\n",
    "However, we can use the numpy array `continents` to verify if axiom 1 and 2 are fulfilled. Create a function \"axioms\" that returns the message \"We're good!\" if both axiom 1 and 2 are fulfilled, and \"Not quite!\" if that's not the case."
   ]
  },
  {
   "cell_type": "code",
   "execution_count": 34,
   "metadata": {},
   "outputs": [],
   "source": [
    "def check_axioms(sample_space):\n",
    "    try:\n",
    "        assert((sample_space >= 0).all())\n",
    "        assert((sample_space <=1).all())\n",
    "        assert(sum(sample_space) == 1)\n",
    "        print(\"We're Good!\")\n",
    "    except:\n",
    "        print(\"Not quite!\")"
   ]
  },
  {
   "cell_type": "markdown",
   "metadata": {},
   "source": [
    "Now test your newly created function out on `continents`"
   ]
  },
  {
   "cell_type": "code",
   "execution_count": 35,
   "metadata": {},
   "outputs": [
    {
     "name": "stdout",
     "output_type": "stream",
     "text": [
      "We're Good!\n"
     ]
    }
   ],
   "source": [
    "check_axioms(continents)"
   ]
  },
  {
   "cell_type": "markdown",
   "metadata": {},
   "source": [
    "You want to make sure your test returns `\"Not quite!\"` for the following numpy arrays. Go ahead and test away!"
   ]
  },
  {
   "cell_type": "code",
   "execution_count": 38,
   "metadata": {},
   "outputs": [],
   "source": [
    "test_1 = np.array([0.05, 0.2, 0.3, 1.01])\n",
    "test_2 = np.array([0.05, 0.5, 0.6, -0.15])\n",
    "test_3 = np.array([0.043,0.05,.02,0.3,0.2])"
   ]
  },
  {
   "cell_type": "code",
   "execution_count": 39,
   "metadata": {},
   "outputs": [
    {
     "name": "stdout",
     "output_type": "stream",
     "text": [
      "Not quite!\n",
      "Not quite!\n",
      "Not quite!\n"
     ]
    }
   ],
   "source": [
    "check_axioms(test_1)\n",
    "check_axioms(test_2)\n",
    "check_axioms(test_3)"
   ]
  },
  {
   "cell_type": "markdown",
   "metadata": {},
   "source": [
    "Great! We tested it and seems like our set `continents` is a true probability space.\n",
    "\n",
    "## Some more practice on the sample and event spaces\n",
    "\n",
    "In this exercise, we'll look at possible outcomes when throwing a dice twice. For your convenience, we created the NumPy array below.\n",
    "\n",
    "Next, we'll compute a couple or probabilities associated with doing this."
   ]
  },
  {
   "cell_type": "code",
   "execution_count": 40,
   "metadata": {},
   "outputs": [],
   "source": [
    "import numpy as np\n",
    "sample_dice = np.array([(1, 1), (1, 2), (1, 3), (1, 4), (1, 5), (1, 6),\n",
    "              (2, 1), (2, 2), (2, 3), (2, 4), (2, 5), (2, 6),\n",
    "              (3, 1), (3, 2), (3, 3), (3, 4), (3, 5), (3, 6),\n",
    "              (4, 1), (4, 2), (4, 3), (4, 4), (4, 5), (4, 6),\n",
    "              (5, 1), (5, 2), (5, 3), (5, 4), (5, 5), (5, 6),\n",
    "              (6, 1), (6, 2), (6, 3), (6, 4), (6, 5), (6, 6)])"
   ]
  },
  {
   "cell_type": "markdown",
   "metadata": {},
   "source": [
    "## Some more practice on the sample and event spaces\n",
    "\n",
    "In this exercise, we'll look at possible outcomes when throwing a dice twice. For your convenience, we created the NumPy array below.\n",
    "\n",
    "Next, we'll compute a couple or probabilities associated with doing this."
   ]
  },
  {
   "cell_type": "code",
   "execution_count": 41,
   "metadata": {},
   "outputs": [],
   "source": [
    "import numpy as np\n",
    "sample_dice = np.array([(1, 1), (1, 2), (1, 3), (1, 4), (1, 5), (1, 6),\n",
    "              (2, 1), (2, 2), (2, 3), (2, 4), (2, 5), (2, 6),\n",
    "              (3, 1), (3, 2), (3, 3), (3, 4), (3, 5), (3, 6),\n",
    "              (4, 1), (4, 2), (4, 3), (4, 4), (4, 5), (4, 6),\n",
    "              (5, 1), (5, 2), (5, 3), (5, 4), (5, 5), (5, 6),\n",
    "              (6, 1), (6, 2), (6, 3), (6, 4), (6, 5), (6, 6)])"
   ]
  },
  {
   "cell_type": "markdown",
   "metadata": {},
   "source": [
    "Look at the shape of the array to reassure we haven't made any mistakes."
   ]
  },
  {
   "cell_type": "markdown",
   "metadata": {},
   "source": []
  },
  {
   "cell_type": "code",
   "execution_count": 42,
   "metadata": {},
   "outputs": [
    {
     "data": {
      "text/plain": [
       "(36, 2)"
      ]
     },
     "execution_count": 42,
     "metadata": {},
     "output_type": "execute_result"
    }
   ],
   "source": [
    "sample_dice.shape # should be equal to (36,2)"
   ]
  },
  {
   "cell_type": "markdown",
   "metadata": {},
   "source": [
    "Use Python to obtain the following probabilities:\n",
    "\n",
    "#### a. What is the probability of throwing a 5 at least once?\n",
    "\n",
    "First, use sample_dice to get \"True\" values for each time a 5 occurs. This means that, "
   ]
  },
  {
   "cell_type": "code",
   "execution_count": 55,
   "metadata": {},
   "outputs": [],
   "source": [
    "set_5 = np.array([(x[0]==5, x[1]==5) for x in sample_dice])\n",
    " # Your output should be shape (36, 2) but with booleans instead of numbers"
   ]
  },
  {
   "cell_type": "code",
   "execution_count": 57,
   "metadata": {},
   "outputs": [
    {
     "data": {
      "text/plain": [
       "(36, 2)"
      ]
     },
     "execution_count": 57,
     "metadata": {},
     "output_type": "execute_result"
    }
   ],
   "source": [
    "set_5.shape"
   ]
  },
  {
   "cell_type": "markdown",
   "metadata": {},
   "source": [
    "Next, make sure that you get a value `True` for each pair where at least one 5 was thrown."
   ]
  },
  {
   "cell_type": "code",
   "execution_count": 59,
   "metadata": {},
   "outputs": [
    {
     "name": "stdout",
     "output_type": "stream",
     "text": [
      "[False False False False  True False False False False False  True False\n",
      " False False False False  True False False False False False  True False\n",
      "  True  True  True  True  True  True False False False False  True False]\n"
     ]
    }
   ],
   "source": [
    "true_5 = np.array([x[0] or x[1] for x in set_5])\n",
    "\n",
    "# Your output should be shape (36,) and have booleans. \n",
    "              # \"True\" if at least one of the previous pairs was true. Tip: use np.any()\n",
    "print(true_5)"
   ]
  },
  {
   "cell_type": "code",
   "execution_count": 60,
   "metadata": {},
   "outputs": [
    {
     "data": {
      "text/plain": [
       "(36,)"
      ]
     },
     "execution_count": 60,
     "metadata": {},
     "output_type": "execute_result"
    }
   ],
   "source": [
    "true_5.shape"
   ]
  },
  {
   "cell_type": "markdown",
   "metadata": {},
   "source": [
    "Applying the `sum()` function you can get to the total number of items in the event space. Divide this by the total number in the sample space."
   ]
  },
  {
   "cell_type": "code",
   "execution_count": 62,
   "metadata": {},
   "outputs": [
    {
     "name": "stdout",
     "output_type": "stream",
     "text": [
      "0.3055555555555556\n"
     ]
    }
   ],
   "source": [
    "prob_5 = sum([1 for x in true_5 if x])/36\n",
    "print(prob_5)"
   ]
  },
  {
   "cell_type": "markdown",
   "metadata": {},
   "source": [
    "#### b. What is the probability of throwing a 5 or 6 at least once?"
   ]
  },
  {
   "cell_type": "code",
   "execution_count": 63,
   "metadata": {},
   "outputs": [],
   "source": [
    "set_5 = set_5\n",
    "set_6 = np.array([(x[0]==6, x[1]==6) for x in sample_dice])"
   ]
  },
  {
   "cell_type": "code",
   "execution_count": 65,
   "metadata": {},
   "outputs": [],
   "source": [
    "set_5_6 = np.concatenate((set_5, set_6))"
   ]
  },
  {
   "cell_type": "code",
   "execution_count": null,
   "metadata": {},
   "outputs": [],
   "source": []
  },
  {
   "cell_type": "code",
   "execution_count": 67,
   "metadata": {},
   "outputs": [
    {
     "name": "stdout",
     "output_type": "stream",
     "text": [
      "[False False False False  True False False False False False  True False\n",
      " False False False False  True False False False False False  True False\n",
      "  True  True  True  True  True  True False False False False  True False\n",
      " False False False False False  True False False False False False  True\n",
      " False False False False False  True False False False False False  True\n",
      " False False False False False  True  True  True  True  True  True  True]\n"
     ]
    }
   ],
   "source": [
    "set_any_5_6 = np.array([x.any() for x in set_5_6])\n",
    "print(set_any_5_6) "
   ]
  },
  {
   "cell_type": "code",
   "execution_count": 68,
   "metadata": {},
   "outputs": [
    {
     "name": "stdout",
     "output_type": "stream",
     "text": [
      "0.3055555555555556\n"
     ]
    }
   ],
   "source": [
    "prob_5_6 = sum([1 for x in set_any_5_6 if x])/len(set_any_5_6)\n",
    "print(prob_5_6)"
   ]
  },
  {
   "cell_type": "markdown",
   "metadata": {},
   "source": [
    "#### c. What is the probability of the outcome having a sum of exactly 8?"
   ]
  },
  {
   "cell_type": "code",
   "execution_count": 70,
   "metadata": {},
   "outputs": [],
   "source": [
    "sum_dice = np.array([sum([x[0], x[1]]) for x in sample_dice])\n",
    "sum_8 = np.array([x==8 for x in sum_dice])"
   ]
  },
  {
   "cell_type": "code",
   "execution_count": 72,
   "metadata": {},
   "outputs": [
    {
     "name": "stdout",
     "output_type": "stream",
     "text": [
      "0.1388888888888889\n"
     ]
    }
   ],
   "source": [
    "prob_sum_8 = sum([1 for x in sum_8 if x])/len(sum_8)\n",
    "print(prob_sum_8)"
   ]
  },
  {
   "cell_type": "markdown",
   "metadata": {},
   "source": [
    "## Now let's try creating your own event space!\n",
    "\n",
    "A teaching assistant is holding office hours so students can make appointments. She has 6 appointments scheduled today, 3 by male students, and 3 by female students. \n",
    "\n",
    "Create a NumPy array of possible outcomes in the same way as we did in the \"throwing a dice twice\" exercise. It will be quite a bit of typing, as your resulting NumPy array will have a shape (20,6)!"
   ]
  },
  {
   "cell_type": "code",
   "execution_count": 87,
   "metadata": {},
   "outputs": [],
   "source": [
    "from itertools import permutations\n",
    "sample_mf = []\n",
    "options = [\"m\", \"m\", \"m\", \"f\", \"f\", \"f\"]\n",
    "\n",
    "for perm in permutations(options):\n",
    "    sample_mf.append(perm)\n"
   ]
  },
  {
   "cell_type": "code",
   "execution_count": 88,
   "metadata": {},
   "outputs": [
    {
     "data": {
      "text/plain": [
       "[('m', 'm', 'm', 'f', 'f', 'f'),\n",
       " ('m', 'm', 'm', 'f', 'f', 'f'),\n",
       " ('m', 'm', 'm', 'f', 'f', 'f'),\n",
       " ('m', 'm', 'm', 'f', 'f', 'f'),\n",
       " ('m', 'm', 'm', 'f', 'f', 'f'),\n",
       " ('m', 'm', 'm', 'f', 'f', 'f'),\n",
       " ('m', 'm', 'f', 'm', 'f', 'f'),\n",
       " ('m', 'm', 'f', 'm', 'f', 'f'),\n",
       " ('m', 'm', 'f', 'f', 'm', 'f'),\n",
       " ('m', 'm', 'f', 'f', 'f', 'm'),\n",
       " ('m', 'm', 'f', 'f', 'm', 'f'),\n",
       " ('m', 'm', 'f', 'f', 'f', 'm'),\n",
       " ('m', 'm', 'f', 'm', 'f', 'f'),\n",
       " ('m', 'm', 'f', 'm', 'f', 'f'),\n",
       " ('m', 'm', 'f', 'f', 'm', 'f'),\n",
       " ('m', 'm', 'f', 'f', 'f', 'm'),\n",
       " ('m', 'm', 'f', 'f', 'm', 'f'),\n",
       " ('m', 'm', 'f', 'f', 'f', 'm'),\n",
       " ('m', 'm', 'f', 'm', 'f', 'f'),\n",
       " ('m', 'm', 'f', 'm', 'f', 'f'),\n",
       " ('m', 'm', 'f', 'f', 'm', 'f'),\n",
       " ('m', 'm', 'f', 'f', 'f', 'm'),\n",
       " ('m', 'm', 'f', 'f', 'm', 'f'),\n",
       " ('m', 'm', 'f', 'f', 'f', 'm'),\n",
       " ('m', 'm', 'm', 'f', 'f', 'f'),\n",
       " ('m', 'm', 'm', 'f', 'f', 'f'),\n",
       " ('m', 'm', 'm', 'f', 'f', 'f'),\n",
       " ('m', 'm', 'm', 'f', 'f', 'f'),\n",
       " ('m', 'm', 'm', 'f', 'f', 'f'),\n",
       " ('m', 'm', 'm', 'f', 'f', 'f'),\n",
       " ('m', 'm', 'f', 'm', 'f', 'f'),\n",
       " ('m', 'm', 'f', 'm', 'f', 'f'),\n",
       " ('m', 'm', 'f', 'f', 'm', 'f'),\n",
       " ('m', 'm', 'f', 'f', 'f', 'm'),\n",
       " ('m', 'm', 'f', 'f', 'm', 'f'),\n",
       " ('m', 'm', 'f', 'f', 'f', 'm'),\n",
       " ('m', 'm', 'f', 'm', 'f', 'f'),\n",
       " ('m', 'm', 'f', 'm', 'f', 'f'),\n",
       " ('m', 'm', 'f', 'f', 'm', 'f'),\n",
       " ('m', 'm', 'f', 'f', 'f', 'm'),\n",
       " ('m', 'm', 'f', 'f', 'm', 'f'),\n",
       " ('m', 'm', 'f', 'f', 'f', 'm'),\n",
       " ('m', 'm', 'f', 'm', 'f', 'f'),\n",
       " ('m', 'm', 'f', 'm', 'f', 'f'),\n",
       " ('m', 'm', 'f', 'f', 'm', 'f'),\n",
       " ('m', 'm', 'f', 'f', 'f', 'm'),\n",
       " ('m', 'm', 'f', 'f', 'm', 'f'),\n",
       " ('m', 'm', 'f', 'f', 'f', 'm'),\n",
       " ('m', 'f', 'm', 'm', 'f', 'f'),\n",
       " ('m', 'f', 'm', 'm', 'f', 'f'),\n",
       " ('m', 'f', 'm', 'f', 'm', 'f'),\n",
       " ('m', 'f', 'm', 'f', 'f', 'm'),\n",
       " ('m', 'f', 'm', 'f', 'm', 'f'),\n",
       " ('m', 'f', 'm', 'f', 'f', 'm'),\n",
       " ('m', 'f', 'm', 'm', 'f', 'f'),\n",
       " ('m', 'f', 'm', 'm', 'f', 'f'),\n",
       " ('m', 'f', 'm', 'f', 'm', 'f'),\n",
       " ('m', 'f', 'm', 'f', 'f', 'm'),\n",
       " ('m', 'f', 'm', 'f', 'm', 'f'),\n",
       " ('m', 'f', 'm', 'f', 'f', 'm'),\n",
       " ('m', 'f', 'f', 'm', 'm', 'f'),\n",
       " ('m', 'f', 'f', 'm', 'f', 'm'),\n",
       " ('m', 'f', 'f', 'm', 'm', 'f'),\n",
       " ('m', 'f', 'f', 'm', 'f', 'm'),\n",
       " ('m', 'f', 'f', 'f', 'm', 'm'),\n",
       " ('m', 'f', 'f', 'f', 'm', 'm'),\n",
       " ('m', 'f', 'f', 'm', 'm', 'f'),\n",
       " ('m', 'f', 'f', 'm', 'f', 'm'),\n",
       " ('m', 'f', 'f', 'm', 'm', 'f'),\n",
       " ('m', 'f', 'f', 'm', 'f', 'm'),\n",
       " ('m', 'f', 'f', 'f', 'm', 'm'),\n",
       " ('m', 'f', 'f', 'f', 'm', 'm'),\n",
       " ('m', 'f', 'm', 'm', 'f', 'f'),\n",
       " ('m', 'f', 'm', 'm', 'f', 'f'),\n",
       " ('m', 'f', 'm', 'f', 'm', 'f'),\n",
       " ('m', 'f', 'm', 'f', 'f', 'm'),\n",
       " ('m', 'f', 'm', 'f', 'm', 'f'),\n",
       " ('m', 'f', 'm', 'f', 'f', 'm'),\n",
       " ('m', 'f', 'm', 'm', 'f', 'f'),\n",
       " ('m', 'f', 'm', 'm', 'f', 'f'),\n",
       " ('m', 'f', 'm', 'f', 'm', 'f'),\n",
       " ('m', 'f', 'm', 'f', 'f', 'm'),\n",
       " ('m', 'f', 'm', 'f', 'm', 'f'),\n",
       " ('m', 'f', 'm', 'f', 'f', 'm'),\n",
       " ('m', 'f', 'f', 'm', 'm', 'f'),\n",
       " ('m', 'f', 'f', 'm', 'f', 'm'),\n",
       " ('m', 'f', 'f', 'm', 'm', 'f'),\n",
       " ('m', 'f', 'f', 'm', 'f', 'm'),\n",
       " ('m', 'f', 'f', 'f', 'm', 'm'),\n",
       " ('m', 'f', 'f', 'f', 'm', 'm'),\n",
       " ('m', 'f', 'f', 'm', 'm', 'f'),\n",
       " ('m', 'f', 'f', 'm', 'f', 'm'),\n",
       " ('m', 'f', 'f', 'm', 'm', 'f'),\n",
       " ('m', 'f', 'f', 'm', 'f', 'm'),\n",
       " ('m', 'f', 'f', 'f', 'm', 'm'),\n",
       " ('m', 'f', 'f', 'f', 'm', 'm'),\n",
       " ('m', 'f', 'm', 'm', 'f', 'f'),\n",
       " ('m', 'f', 'm', 'm', 'f', 'f'),\n",
       " ('m', 'f', 'm', 'f', 'm', 'f'),\n",
       " ('m', 'f', 'm', 'f', 'f', 'm'),\n",
       " ('m', 'f', 'm', 'f', 'm', 'f'),\n",
       " ('m', 'f', 'm', 'f', 'f', 'm'),\n",
       " ('m', 'f', 'm', 'm', 'f', 'f'),\n",
       " ('m', 'f', 'm', 'm', 'f', 'f'),\n",
       " ('m', 'f', 'm', 'f', 'm', 'f'),\n",
       " ('m', 'f', 'm', 'f', 'f', 'm'),\n",
       " ('m', 'f', 'm', 'f', 'm', 'f'),\n",
       " ('m', 'f', 'm', 'f', 'f', 'm'),\n",
       " ('m', 'f', 'f', 'm', 'm', 'f'),\n",
       " ('m', 'f', 'f', 'm', 'f', 'm'),\n",
       " ('m', 'f', 'f', 'm', 'm', 'f'),\n",
       " ('m', 'f', 'f', 'm', 'f', 'm'),\n",
       " ('m', 'f', 'f', 'f', 'm', 'm'),\n",
       " ('m', 'f', 'f', 'f', 'm', 'm'),\n",
       " ('m', 'f', 'f', 'm', 'm', 'f'),\n",
       " ('m', 'f', 'f', 'm', 'f', 'm'),\n",
       " ('m', 'f', 'f', 'm', 'm', 'f'),\n",
       " ('m', 'f', 'f', 'm', 'f', 'm'),\n",
       " ('m', 'f', 'f', 'f', 'm', 'm'),\n",
       " ('m', 'f', 'f', 'f', 'm', 'm'),\n",
       " ('m', 'm', 'm', 'f', 'f', 'f'),\n",
       " ('m', 'm', 'm', 'f', 'f', 'f'),\n",
       " ('m', 'm', 'm', 'f', 'f', 'f'),\n",
       " ('m', 'm', 'm', 'f', 'f', 'f'),\n",
       " ('m', 'm', 'm', 'f', 'f', 'f'),\n",
       " ('m', 'm', 'm', 'f', 'f', 'f'),\n",
       " ('m', 'm', 'f', 'm', 'f', 'f'),\n",
       " ('m', 'm', 'f', 'm', 'f', 'f'),\n",
       " ('m', 'm', 'f', 'f', 'm', 'f'),\n",
       " ('m', 'm', 'f', 'f', 'f', 'm'),\n",
       " ('m', 'm', 'f', 'f', 'm', 'f'),\n",
       " ('m', 'm', 'f', 'f', 'f', 'm'),\n",
       " ('m', 'm', 'f', 'm', 'f', 'f'),\n",
       " ('m', 'm', 'f', 'm', 'f', 'f'),\n",
       " ('m', 'm', 'f', 'f', 'm', 'f'),\n",
       " ('m', 'm', 'f', 'f', 'f', 'm'),\n",
       " ('m', 'm', 'f', 'f', 'm', 'f'),\n",
       " ('m', 'm', 'f', 'f', 'f', 'm'),\n",
       " ('m', 'm', 'f', 'm', 'f', 'f'),\n",
       " ('m', 'm', 'f', 'm', 'f', 'f'),\n",
       " ('m', 'm', 'f', 'f', 'm', 'f'),\n",
       " ('m', 'm', 'f', 'f', 'f', 'm'),\n",
       " ('m', 'm', 'f', 'f', 'm', 'f'),\n",
       " ('m', 'm', 'f', 'f', 'f', 'm'),\n",
       " ('m', 'm', 'm', 'f', 'f', 'f'),\n",
       " ('m', 'm', 'm', 'f', 'f', 'f'),\n",
       " ('m', 'm', 'm', 'f', 'f', 'f'),\n",
       " ('m', 'm', 'm', 'f', 'f', 'f'),\n",
       " ('m', 'm', 'm', 'f', 'f', 'f'),\n",
       " ('m', 'm', 'm', 'f', 'f', 'f'),\n",
       " ('m', 'm', 'f', 'm', 'f', 'f'),\n",
       " ('m', 'm', 'f', 'm', 'f', 'f'),\n",
       " ('m', 'm', 'f', 'f', 'm', 'f'),\n",
       " ('m', 'm', 'f', 'f', 'f', 'm'),\n",
       " ('m', 'm', 'f', 'f', 'm', 'f'),\n",
       " ('m', 'm', 'f', 'f', 'f', 'm'),\n",
       " ('m', 'm', 'f', 'm', 'f', 'f'),\n",
       " ('m', 'm', 'f', 'm', 'f', 'f'),\n",
       " ('m', 'm', 'f', 'f', 'm', 'f'),\n",
       " ('m', 'm', 'f', 'f', 'f', 'm'),\n",
       " ('m', 'm', 'f', 'f', 'm', 'f'),\n",
       " ('m', 'm', 'f', 'f', 'f', 'm'),\n",
       " ('m', 'm', 'f', 'm', 'f', 'f'),\n",
       " ('m', 'm', 'f', 'm', 'f', 'f'),\n",
       " ('m', 'm', 'f', 'f', 'm', 'f'),\n",
       " ('m', 'm', 'f', 'f', 'f', 'm'),\n",
       " ('m', 'm', 'f', 'f', 'm', 'f'),\n",
       " ('m', 'm', 'f', 'f', 'f', 'm'),\n",
       " ('m', 'f', 'm', 'm', 'f', 'f'),\n",
       " ('m', 'f', 'm', 'm', 'f', 'f'),\n",
       " ('m', 'f', 'm', 'f', 'm', 'f'),\n",
       " ('m', 'f', 'm', 'f', 'f', 'm'),\n",
       " ('m', 'f', 'm', 'f', 'm', 'f'),\n",
       " ('m', 'f', 'm', 'f', 'f', 'm'),\n",
       " ('m', 'f', 'm', 'm', 'f', 'f'),\n",
       " ('m', 'f', 'm', 'm', 'f', 'f'),\n",
       " ('m', 'f', 'm', 'f', 'm', 'f'),\n",
       " ('m', 'f', 'm', 'f', 'f', 'm'),\n",
       " ('m', 'f', 'm', 'f', 'm', 'f'),\n",
       " ('m', 'f', 'm', 'f', 'f', 'm'),\n",
       " ('m', 'f', 'f', 'm', 'm', 'f'),\n",
       " ('m', 'f', 'f', 'm', 'f', 'm'),\n",
       " ('m', 'f', 'f', 'm', 'm', 'f'),\n",
       " ('m', 'f', 'f', 'm', 'f', 'm'),\n",
       " ('m', 'f', 'f', 'f', 'm', 'm'),\n",
       " ('m', 'f', 'f', 'f', 'm', 'm'),\n",
       " ('m', 'f', 'f', 'm', 'm', 'f'),\n",
       " ('m', 'f', 'f', 'm', 'f', 'm'),\n",
       " ('m', 'f', 'f', 'm', 'm', 'f'),\n",
       " ('m', 'f', 'f', 'm', 'f', 'm'),\n",
       " ('m', 'f', 'f', 'f', 'm', 'm'),\n",
       " ('m', 'f', 'f', 'f', 'm', 'm'),\n",
       " ('m', 'f', 'm', 'm', 'f', 'f'),\n",
       " ('m', 'f', 'm', 'm', 'f', 'f'),\n",
       " ('m', 'f', 'm', 'f', 'm', 'f'),\n",
       " ('m', 'f', 'm', 'f', 'f', 'm'),\n",
       " ('m', 'f', 'm', 'f', 'm', 'f'),\n",
       " ('m', 'f', 'm', 'f', 'f', 'm'),\n",
       " ('m', 'f', 'm', 'm', 'f', 'f'),\n",
       " ('m', 'f', 'm', 'm', 'f', 'f'),\n",
       " ('m', 'f', 'm', 'f', 'm', 'f'),\n",
       " ('m', 'f', 'm', 'f', 'f', 'm'),\n",
       " ('m', 'f', 'm', 'f', 'm', 'f'),\n",
       " ('m', 'f', 'm', 'f', 'f', 'm'),\n",
       " ('m', 'f', 'f', 'm', 'm', 'f'),\n",
       " ('m', 'f', 'f', 'm', 'f', 'm'),\n",
       " ('m', 'f', 'f', 'm', 'm', 'f'),\n",
       " ('m', 'f', 'f', 'm', 'f', 'm'),\n",
       " ('m', 'f', 'f', 'f', 'm', 'm'),\n",
       " ('m', 'f', 'f', 'f', 'm', 'm'),\n",
       " ('m', 'f', 'f', 'm', 'm', 'f'),\n",
       " ('m', 'f', 'f', 'm', 'f', 'm'),\n",
       " ('m', 'f', 'f', 'm', 'm', 'f'),\n",
       " ('m', 'f', 'f', 'm', 'f', 'm'),\n",
       " ('m', 'f', 'f', 'f', 'm', 'm'),\n",
       " ('m', 'f', 'f', 'f', 'm', 'm'),\n",
       " ('m', 'f', 'm', 'm', 'f', 'f'),\n",
       " ('m', 'f', 'm', 'm', 'f', 'f'),\n",
       " ('m', 'f', 'm', 'f', 'm', 'f'),\n",
       " ('m', 'f', 'm', 'f', 'f', 'm'),\n",
       " ('m', 'f', 'm', 'f', 'm', 'f'),\n",
       " ('m', 'f', 'm', 'f', 'f', 'm'),\n",
       " ('m', 'f', 'm', 'm', 'f', 'f'),\n",
       " ('m', 'f', 'm', 'm', 'f', 'f'),\n",
       " ('m', 'f', 'm', 'f', 'm', 'f'),\n",
       " ('m', 'f', 'm', 'f', 'f', 'm'),\n",
       " ('m', 'f', 'm', 'f', 'm', 'f'),\n",
       " ('m', 'f', 'm', 'f', 'f', 'm'),\n",
       " ('m', 'f', 'f', 'm', 'm', 'f'),\n",
       " ('m', 'f', 'f', 'm', 'f', 'm'),\n",
       " ('m', 'f', 'f', 'm', 'm', 'f'),\n",
       " ('m', 'f', 'f', 'm', 'f', 'm'),\n",
       " ('m', 'f', 'f', 'f', 'm', 'm'),\n",
       " ('m', 'f', 'f', 'f', 'm', 'm'),\n",
       " ('m', 'f', 'f', 'm', 'm', 'f'),\n",
       " ('m', 'f', 'f', 'm', 'f', 'm'),\n",
       " ('m', 'f', 'f', 'm', 'm', 'f'),\n",
       " ('m', 'f', 'f', 'm', 'f', 'm'),\n",
       " ('m', 'f', 'f', 'f', 'm', 'm'),\n",
       " ('m', 'f', 'f', 'f', 'm', 'm'),\n",
       " ('m', 'm', 'm', 'f', 'f', 'f'),\n",
       " ('m', 'm', 'm', 'f', 'f', 'f'),\n",
       " ('m', 'm', 'm', 'f', 'f', 'f'),\n",
       " ('m', 'm', 'm', 'f', 'f', 'f'),\n",
       " ('m', 'm', 'm', 'f', 'f', 'f'),\n",
       " ('m', 'm', 'm', 'f', 'f', 'f'),\n",
       " ('m', 'm', 'f', 'm', 'f', 'f'),\n",
       " ('m', 'm', 'f', 'm', 'f', 'f'),\n",
       " ('m', 'm', 'f', 'f', 'm', 'f'),\n",
       " ('m', 'm', 'f', 'f', 'f', 'm'),\n",
       " ('m', 'm', 'f', 'f', 'm', 'f'),\n",
       " ('m', 'm', 'f', 'f', 'f', 'm'),\n",
       " ('m', 'm', 'f', 'm', 'f', 'f'),\n",
       " ('m', 'm', 'f', 'm', 'f', 'f'),\n",
       " ('m', 'm', 'f', 'f', 'm', 'f'),\n",
       " ('m', 'm', 'f', 'f', 'f', 'm'),\n",
       " ('m', 'm', 'f', 'f', 'm', 'f'),\n",
       " ('m', 'm', 'f', 'f', 'f', 'm'),\n",
       " ('m', 'm', 'f', 'm', 'f', 'f'),\n",
       " ('m', 'm', 'f', 'm', 'f', 'f'),\n",
       " ('m', 'm', 'f', 'f', 'm', 'f'),\n",
       " ('m', 'm', 'f', 'f', 'f', 'm'),\n",
       " ('m', 'm', 'f', 'f', 'm', 'f'),\n",
       " ('m', 'm', 'f', 'f', 'f', 'm'),\n",
       " ('m', 'm', 'm', 'f', 'f', 'f'),\n",
       " ('m', 'm', 'm', 'f', 'f', 'f'),\n",
       " ('m', 'm', 'm', 'f', 'f', 'f'),\n",
       " ('m', 'm', 'm', 'f', 'f', 'f'),\n",
       " ('m', 'm', 'm', 'f', 'f', 'f'),\n",
       " ('m', 'm', 'm', 'f', 'f', 'f'),\n",
       " ('m', 'm', 'f', 'm', 'f', 'f'),\n",
       " ('m', 'm', 'f', 'm', 'f', 'f'),\n",
       " ('m', 'm', 'f', 'f', 'm', 'f'),\n",
       " ('m', 'm', 'f', 'f', 'f', 'm'),\n",
       " ('m', 'm', 'f', 'f', 'm', 'f'),\n",
       " ('m', 'm', 'f', 'f', 'f', 'm'),\n",
       " ('m', 'm', 'f', 'm', 'f', 'f'),\n",
       " ('m', 'm', 'f', 'm', 'f', 'f'),\n",
       " ('m', 'm', 'f', 'f', 'm', 'f'),\n",
       " ('m', 'm', 'f', 'f', 'f', 'm'),\n",
       " ('m', 'm', 'f', 'f', 'm', 'f'),\n",
       " ('m', 'm', 'f', 'f', 'f', 'm'),\n",
       " ('m', 'm', 'f', 'm', 'f', 'f'),\n",
       " ('m', 'm', 'f', 'm', 'f', 'f'),\n",
       " ('m', 'm', 'f', 'f', 'm', 'f'),\n",
       " ('m', 'm', 'f', 'f', 'f', 'm'),\n",
       " ('m', 'm', 'f', 'f', 'm', 'f'),\n",
       " ('m', 'm', 'f', 'f', 'f', 'm'),\n",
       " ('m', 'f', 'm', 'm', 'f', 'f'),\n",
       " ('m', 'f', 'm', 'm', 'f', 'f'),\n",
       " ('m', 'f', 'm', 'f', 'm', 'f'),\n",
       " ('m', 'f', 'm', 'f', 'f', 'm'),\n",
       " ('m', 'f', 'm', 'f', 'm', 'f'),\n",
       " ('m', 'f', 'm', 'f', 'f', 'm'),\n",
       " ('m', 'f', 'm', 'm', 'f', 'f'),\n",
       " ('m', 'f', 'm', 'm', 'f', 'f'),\n",
       " ('m', 'f', 'm', 'f', 'm', 'f'),\n",
       " ('m', 'f', 'm', 'f', 'f', 'm'),\n",
       " ('m', 'f', 'm', 'f', 'm', 'f'),\n",
       " ('m', 'f', 'm', 'f', 'f', 'm'),\n",
       " ('m', 'f', 'f', 'm', 'm', 'f'),\n",
       " ('m', 'f', 'f', 'm', 'f', 'm'),\n",
       " ('m', 'f', 'f', 'm', 'm', 'f'),\n",
       " ('m', 'f', 'f', 'm', 'f', 'm'),\n",
       " ('m', 'f', 'f', 'f', 'm', 'm'),\n",
       " ('m', 'f', 'f', 'f', 'm', 'm'),\n",
       " ('m', 'f', 'f', 'm', 'm', 'f'),\n",
       " ('m', 'f', 'f', 'm', 'f', 'm'),\n",
       " ('m', 'f', 'f', 'm', 'm', 'f'),\n",
       " ('m', 'f', 'f', 'm', 'f', 'm'),\n",
       " ('m', 'f', 'f', 'f', 'm', 'm'),\n",
       " ('m', 'f', 'f', 'f', 'm', 'm'),\n",
       " ('m', 'f', 'm', 'm', 'f', 'f'),\n",
       " ('m', 'f', 'm', 'm', 'f', 'f'),\n",
       " ('m', 'f', 'm', 'f', 'm', 'f'),\n",
       " ('m', 'f', 'm', 'f', 'f', 'm'),\n",
       " ('m', 'f', 'm', 'f', 'm', 'f'),\n",
       " ('m', 'f', 'm', 'f', 'f', 'm'),\n",
       " ('m', 'f', 'm', 'm', 'f', 'f'),\n",
       " ('m', 'f', 'm', 'm', 'f', 'f'),\n",
       " ('m', 'f', 'm', 'f', 'm', 'f'),\n",
       " ('m', 'f', 'm', 'f', 'f', 'm'),\n",
       " ('m', 'f', 'm', 'f', 'm', 'f'),\n",
       " ('m', 'f', 'm', 'f', 'f', 'm'),\n",
       " ('m', 'f', 'f', 'm', 'm', 'f'),\n",
       " ('m', 'f', 'f', 'm', 'f', 'm'),\n",
       " ('m', 'f', 'f', 'm', 'm', 'f'),\n",
       " ('m', 'f', 'f', 'm', 'f', 'm'),\n",
       " ('m', 'f', 'f', 'f', 'm', 'm'),\n",
       " ('m', 'f', 'f', 'f', 'm', 'm'),\n",
       " ('m', 'f', 'f', 'm', 'm', 'f'),\n",
       " ('m', 'f', 'f', 'm', 'f', 'm'),\n",
       " ('m', 'f', 'f', 'm', 'm', 'f'),\n",
       " ('m', 'f', 'f', 'm', 'f', 'm'),\n",
       " ('m', 'f', 'f', 'f', 'm', 'm'),\n",
       " ('m', 'f', 'f', 'f', 'm', 'm'),\n",
       " ('m', 'f', 'm', 'm', 'f', 'f'),\n",
       " ('m', 'f', 'm', 'm', 'f', 'f'),\n",
       " ('m', 'f', 'm', 'f', 'm', 'f'),\n",
       " ('m', 'f', 'm', 'f', 'f', 'm'),\n",
       " ('m', 'f', 'm', 'f', 'm', 'f'),\n",
       " ('m', 'f', 'm', 'f', 'f', 'm'),\n",
       " ('m', 'f', 'm', 'm', 'f', 'f'),\n",
       " ('m', 'f', 'm', 'm', 'f', 'f'),\n",
       " ('m', 'f', 'm', 'f', 'm', 'f'),\n",
       " ('m', 'f', 'm', 'f', 'f', 'm'),\n",
       " ('m', 'f', 'm', 'f', 'm', 'f'),\n",
       " ('m', 'f', 'm', 'f', 'f', 'm'),\n",
       " ('m', 'f', 'f', 'm', 'm', 'f'),\n",
       " ('m', 'f', 'f', 'm', 'f', 'm'),\n",
       " ('m', 'f', 'f', 'm', 'm', 'f'),\n",
       " ('m', 'f', 'f', 'm', 'f', 'm'),\n",
       " ('m', 'f', 'f', 'f', 'm', 'm'),\n",
       " ('m', 'f', 'f', 'f', 'm', 'm'),\n",
       " ('m', 'f', 'f', 'm', 'm', 'f'),\n",
       " ('m', 'f', 'f', 'm', 'f', 'm'),\n",
       " ('m', 'f', 'f', 'm', 'm', 'f'),\n",
       " ('m', 'f', 'f', 'm', 'f', 'm'),\n",
       " ('m', 'f', 'f', 'f', 'm', 'm'),\n",
       " ('m', 'f', 'f', 'f', 'm', 'm'),\n",
       " ('f', 'm', 'm', 'm', 'f', 'f'),\n",
       " ('f', 'm', 'm', 'm', 'f', 'f'),\n",
       " ('f', 'm', 'm', 'f', 'm', 'f'),\n",
       " ('f', 'm', 'm', 'f', 'f', 'm'),\n",
       " ('f', 'm', 'm', 'f', 'm', 'f'),\n",
       " ('f', 'm', 'm', 'f', 'f', 'm'),\n",
       " ('f', 'm', 'm', 'm', 'f', 'f'),\n",
       " ('f', 'm', 'm', 'm', 'f', 'f'),\n",
       " ('f', 'm', 'm', 'f', 'm', 'f'),\n",
       " ('f', 'm', 'm', 'f', 'f', 'm'),\n",
       " ('f', 'm', 'm', 'f', 'm', 'f'),\n",
       " ('f', 'm', 'm', 'f', 'f', 'm'),\n",
       " ('f', 'm', 'f', 'm', 'm', 'f'),\n",
       " ('f', 'm', 'f', 'm', 'f', 'm'),\n",
       " ('f', 'm', 'f', 'm', 'm', 'f'),\n",
       " ('f', 'm', 'f', 'm', 'f', 'm'),\n",
       " ('f', 'm', 'f', 'f', 'm', 'm'),\n",
       " ('f', 'm', 'f', 'f', 'm', 'm'),\n",
       " ('f', 'm', 'f', 'm', 'm', 'f'),\n",
       " ('f', 'm', 'f', 'm', 'f', 'm'),\n",
       " ('f', 'm', 'f', 'm', 'm', 'f'),\n",
       " ('f', 'm', 'f', 'm', 'f', 'm'),\n",
       " ('f', 'm', 'f', 'f', 'm', 'm'),\n",
       " ('f', 'm', 'f', 'f', 'm', 'm'),\n",
       " ('f', 'm', 'm', 'm', 'f', 'f'),\n",
       " ('f', 'm', 'm', 'm', 'f', 'f'),\n",
       " ('f', 'm', 'm', 'f', 'm', 'f'),\n",
       " ('f', 'm', 'm', 'f', 'f', 'm'),\n",
       " ('f', 'm', 'm', 'f', 'm', 'f'),\n",
       " ('f', 'm', 'm', 'f', 'f', 'm'),\n",
       " ('f', 'm', 'm', 'm', 'f', 'f'),\n",
       " ('f', 'm', 'm', 'm', 'f', 'f'),\n",
       " ('f', 'm', 'm', 'f', 'm', 'f'),\n",
       " ('f', 'm', 'm', 'f', 'f', 'm'),\n",
       " ('f', 'm', 'm', 'f', 'm', 'f'),\n",
       " ('f', 'm', 'm', 'f', 'f', 'm'),\n",
       " ('f', 'm', 'f', 'm', 'm', 'f'),\n",
       " ('f', 'm', 'f', 'm', 'f', 'm'),\n",
       " ('f', 'm', 'f', 'm', 'm', 'f'),\n",
       " ('f', 'm', 'f', 'm', 'f', 'm'),\n",
       " ('f', 'm', 'f', 'f', 'm', 'm'),\n",
       " ('f', 'm', 'f', 'f', 'm', 'm'),\n",
       " ('f', 'm', 'f', 'm', 'm', 'f'),\n",
       " ('f', 'm', 'f', 'm', 'f', 'm'),\n",
       " ('f', 'm', 'f', 'm', 'm', 'f'),\n",
       " ('f', 'm', 'f', 'm', 'f', 'm'),\n",
       " ('f', 'm', 'f', 'f', 'm', 'm'),\n",
       " ('f', 'm', 'f', 'f', 'm', 'm'),\n",
       " ('f', 'm', 'm', 'm', 'f', 'f'),\n",
       " ('f', 'm', 'm', 'm', 'f', 'f'),\n",
       " ('f', 'm', 'm', 'f', 'm', 'f'),\n",
       " ('f', 'm', 'm', 'f', 'f', 'm'),\n",
       " ('f', 'm', 'm', 'f', 'm', 'f'),\n",
       " ('f', 'm', 'm', 'f', 'f', 'm'),\n",
       " ('f', 'm', 'm', 'm', 'f', 'f'),\n",
       " ('f', 'm', 'm', 'm', 'f', 'f'),\n",
       " ('f', 'm', 'm', 'f', 'm', 'f'),\n",
       " ('f', 'm', 'm', 'f', 'f', 'm'),\n",
       " ('f', 'm', 'm', 'f', 'm', 'f'),\n",
       " ('f', 'm', 'm', 'f', 'f', 'm'),\n",
       " ('f', 'm', 'f', 'm', 'm', 'f'),\n",
       " ('f', 'm', 'f', 'm', 'f', 'm'),\n",
       " ('f', 'm', 'f', 'm', 'm', 'f'),\n",
       " ('f', 'm', 'f', 'm', 'f', 'm'),\n",
       " ('f', 'm', 'f', 'f', 'm', 'm'),\n",
       " ('f', 'm', 'f', 'f', 'm', 'm'),\n",
       " ('f', 'm', 'f', 'm', 'm', 'f'),\n",
       " ('f', 'm', 'f', 'm', 'f', 'm'),\n",
       " ('f', 'm', 'f', 'm', 'm', 'f'),\n",
       " ('f', 'm', 'f', 'm', 'f', 'm'),\n",
       " ('f', 'm', 'f', 'f', 'm', 'm'),\n",
       " ('f', 'm', 'f', 'f', 'm', 'm'),\n",
       " ('f', 'f', 'm', 'm', 'm', 'f'),\n",
       " ('f', 'f', 'm', 'm', 'f', 'm'),\n",
       " ('f', 'f', 'm', 'm', 'm', 'f'),\n",
       " ('f', 'f', 'm', 'm', 'f', 'm'),\n",
       " ('f', 'f', 'm', 'f', 'm', 'm'),\n",
       " ('f', 'f', 'm', 'f', 'm', 'm'),\n",
       " ('f', 'f', 'm', 'm', 'm', 'f'),\n",
       " ('f', 'f', 'm', 'm', 'f', 'm'),\n",
       " ('f', 'f', 'm', 'm', 'm', 'f'),\n",
       " ('f', 'f', 'm', 'm', 'f', 'm'),\n",
       " ('f', 'f', 'm', 'f', 'm', 'm'),\n",
       " ('f', 'f', 'm', 'f', 'm', 'm'),\n",
       " ('f', 'f', 'm', 'm', 'm', 'f'),\n",
       " ('f', 'f', 'm', 'm', 'f', 'm'),\n",
       " ('f', 'f', 'm', 'm', 'm', 'f'),\n",
       " ('f', 'f', 'm', 'm', 'f', 'm'),\n",
       " ('f', 'f', 'm', 'f', 'm', 'm'),\n",
       " ('f', 'f', 'm', 'f', 'm', 'm'),\n",
       " ('f', 'f', 'f', 'm', 'm', 'm'),\n",
       " ('f', 'f', 'f', 'm', 'm', 'm'),\n",
       " ('f', 'f', 'f', 'm', 'm', 'm'),\n",
       " ('f', 'f', 'f', 'm', 'm', 'm'),\n",
       " ('f', 'f', 'f', 'm', 'm', 'm'),\n",
       " ('f', 'f', 'f', 'm', 'm', 'm'),\n",
       " ('f', 'f', 'm', 'm', 'm', 'f'),\n",
       " ('f', 'f', 'm', 'm', 'f', 'm'),\n",
       " ('f', 'f', 'm', 'm', 'm', 'f'),\n",
       " ('f', 'f', 'm', 'm', 'f', 'm'),\n",
       " ('f', 'f', 'm', 'f', 'm', 'm'),\n",
       " ('f', 'f', 'm', 'f', 'm', 'm'),\n",
       " ('f', 'f', 'm', 'm', 'm', 'f'),\n",
       " ('f', 'f', 'm', 'm', 'f', 'm'),\n",
       " ('f', 'f', 'm', 'm', 'm', 'f'),\n",
       " ('f', 'f', 'm', 'm', 'f', 'm'),\n",
       " ('f', 'f', 'm', 'f', 'm', 'm'),\n",
       " ('f', 'f', 'm', 'f', 'm', 'm'),\n",
       " ('f', 'f', 'm', 'm', 'm', 'f'),\n",
       " ('f', 'f', 'm', 'm', 'f', 'm'),\n",
       " ('f', 'f', 'm', 'm', 'm', 'f'),\n",
       " ('f', 'f', 'm', 'm', 'f', 'm'),\n",
       " ('f', 'f', 'm', 'f', 'm', 'm'),\n",
       " ('f', 'f', 'm', 'f', 'm', 'm'),\n",
       " ('f', 'f', 'f', 'm', 'm', 'm'),\n",
       " ('f', 'f', 'f', 'm', 'm', 'm'),\n",
       " ('f', 'f', 'f', 'm', 'm', 'm'),\n",
       " ('f', 'f', 'f', 'm', 'm', 'm'),\n",
       " ('f', 'f', 'f', 'm', 'm', 'm'),\n",
       " ('f', 'f', 'f', 'm', 'm', 'm'),\n",
       " ('f', 'm', 'm', 'm', 'f', 'f'),\n",
       " ('f', 'm', 'm', 'm', 'f', 'f'),\n",
       " ('f', 'm', 'm', 'f', 'm', 'f'),\n",
       " ('f', 'm', 'm', 'f', 'f', 'm'),\n",
       " ('f', 'm', 'm', 'f', 'm', 'f'),\n",
       " ('f', 'm', 'm', 'f', 'f', 'm'),\n",
       " ('f', 'm', 'm', 'm', 'f', 'f'),\n",
       " ('f', 'm', 'm', 'm', 'f', 'f'),\n",
       " ('f', 'm', 'm', 'f', 'm', 'f'),\n",
       " ('f', 'm', 'm', 'f', 'f', 'm'),\n",
       " ('f', 'm', 'm', 'f', 'm', 'f'),\n",
       " ('f', 'm', 'm', 'f', 'f', 'm'),\n",
       " ('f', 'm', 'f', 'm', 'm', 'f'),\n",
       " ('f', 'm', 'f', 'm', 'f', 'm'),\n",
       " ('f', 'm', 'f', 'm', 'm', 'f'),\n",
       " ('f', 'm', 'f', 'm', 'f', 'm'),\n",
       " ('f', 'm', 'f', 'f', 'm', 'm'),\n",
       " ('f', 'm', 'f', 'f', 'm', 'm'),\n",
       " ('f', 'm', 'f', 'm', 'm', 'f'),\n",
       " ('f', 'm', 'f', 'm', 'f', 'm'),\n",
       " ('f', 'm', 'f', 'm', 'm', 'f'),\n",
       " ('f', 'm', 'f', 'm', 'f', 'm'),\n",
       " ('f', 'm', 'f', 'f', 'm', 'm'),\n",
       " ('f', 'm', 'f', 'f', 'm', 'm'),\n",
       " ('f', 'm', 'm', 'm', 'f', 'f'),\n",
       " ('f', 'm', 'm', 'm', 'f', 'f'),\n",
       " ('f', 'm', 'm', 'f', 'm', 'f'),\n",
       " ('f', 'm', 'm', 'f', 'f', 'm'),\n",
       " ('f', 'm', 'm', 'f', 'm', 'f'),\n",
       " ('f', 'm', 'm', 'f', 'f', 'm'),\n",
       " ('f', 'm', 'm', 'm', 'f', 'f'),\n",
       " ('f', 'm', 'm', 'm', 'f', 'f'),\n",
       " ('f', 'm', 'm', 'f', 'm', 'f'),\n",
       " ('f', 'm', 'm', 'f', 'f', 'm'),\n",
       " ('f', 'm', 'm', 'f', 'm', 'f'),\n",
       " ('f', 'm', 'm', 'f', 'f', 'm'),\n",
       " ('f', 'm', 'f', 'm', 'm', 'f'),\n",
       " ('f', 'm', 'f', 'm', 'f', 'm'),\n",
       " ('f', 'm', 'f', 'm', 'm', 'f'),\n",
       " ('f', 'm', 'f', 'm', 'f', 'm'),\n",
       " ('f', 'm', 'f', 'f', 'm', 'm'),\n",
       " ('f', 'm', 'f', 'f', 'm', 'm'),\n",
       " ('f', 'm', 'f', 'm', 'm', 'f'),\n",
       " ('f', 'm', 'f', 'm', 'f', 'm'),\n",
       " ('f', 'm', 'f', 'm', 'm', 'f'),\n",
       " ('f', 'm', 'f', 'm', 'f', 'm'),\n",
       " ('f', 'm', 'f', 'f', 'm', 'm'),\n",
       " ('f', 'm', 'f', 'f', 'm', 'm'),\n",
       " ('f', 'm', 'm', 'm', 'f', 'f'),\n",
       " ('f', 'm', 'm', 'm', 'f', 'f'),\n",
       " ('f', 'm', 'm', 'f', 'm', 'f'),\n",
       " ('f', 'm', 'm', 'f', 'f', 'm'),\n",
       " ('f', 'm', 'm', 'f', 'm', 'f'),\n",
       " ('f', 'm', 'm', 'f', 'f', 'm'),\n",
       " ('f', 'm', 'm', 'm', 'f', 'f'),\n",
       " ('f', 'm', 'm', 'm', 'f', 'f'),\n",
       " ('f', 'm', 'm', 'f', 'm', 'f'),\n",
       " ('f', 'm', 'm', 'f', 'f', 'm'),\n",
       " ('f', 'm', 'm', 'f', 'm', 'f'),\n",
       " ('f', 'm', 'm', 'f', 'f', 'm'),\n",
       " ('f', 'm', 'f', 'm', 'm', 'f'),\n",
       " ('f', 'm', 'f', 'm', 'f', 'm'),\n",
       " ('f', 'm', 'f', 'm', 'm', 'f'),\n",
       " ('f', 'm', 'f', 'm', 'f', 'm'),\n",
       " ('f', 'm', 'f', 'f', 'm', 'm'),\n",
       " ('f', 'm', 'f', 'f', 'm', 'm'),\n",
       " ('f', 'm', 'f', 'm', 'm', 'f'),\n",
       " ('f', 'm', 'f', 'm', 'f', 'm'),\n",
       " ('f', 'm', 'f', 'm', 'm', 'f'),\n",
       " ('f', 'm', 'f', 'm', 'f', 'm'),\n",
       " ('f', 'm', 'f', 'f', 'm', 'm'),\n",
       " ('f', 'm', 'f', 'f', 'm', 'm'),\n",
       " ('f', 'f', 'm', 'm', 'm', 'f'),\n",
       " ('f', 'f', 'm', 'm', 'f', 'm'),\n",
       " ('f', 'f', 'm', 'm', 'm', 'f'),\n",
       " ('f', 'f', 'm', 'm', 'f', 'm'),\n",
       " ('f', 'f', 'm', 'f', 'm', 'm'),\n",
       " ('f', 'f', 'm', 'f', 'm', 'm'),\n",
       " ('f', 'f', 'm', 'm', 'm', 'f'),\n",
       " ('f', 'f', 'm', 'm', 'f', 'm'),\n",
       " ('f', 'f', 'm', 'm', 'm', 'f'),\n",
       " ('f', 'f', 'm', 'm', 'f', 'm'),\n",
       " ('f', 'f', 'm', 'f', 'm', 'm'),\n",
       " ('f', 'f', 'm', 'f', 'm', 'm'),\n",
       " ('f', 'f', 'm', 'm', 'm', 'f'),\n",
       " ('f', 'f', 'm', 'm', 'f', 'm'),\n",
       " ('f', 'f', 'm', 'm', 'm', 'f'),\n",
       " ('f', 'f', 'm', 'm', 'f', 'm'),\n",
       " ('f', 'f', 'm', 'f', 'm', 'm'),\n",
       " ('f', 'f', 'm', 'f', 'm', 'm'),\n",
       " ('f', 'f', 'f', 'm', 'm', 'm'),\n",
       " ('f', 'f', 'f', 'm', 'm', 'm'),\n",
       " ('f', 'f', 'f', 'm', 'm', 'm'),\n",
       " ('f', 'f', 'f', 'm', 'm', 'm'),\n",
       " ('f', 'f', 'f', 'm', 'm', 'm'),\n",
       " ('f', 'f', 'f', 'm', 'm', 'm'),\n",
       " ('f', 'f', 'm', 'm', 'm', 'f'),\n",
       " ('f', 'f', 'm', 'm', 'f', 'm'),\n",
       " ('f', 'f', 'm', 'm', 'm', 'f'),\n",
       " ('f', 'f', 'm', 'm', 'f', 'm'),\n",
       " ('f', 'f', 'm', 'f', 'm', 'm'),\n",
       " ('f', 'f', 'm', 'f', 'm', 'm'),\n",
       " ('f', 'f', 'm', 'm', 'm', 'f'),\n",
       " ('f', 'f', 'm', 'm', 'f', 'm'),\n",
       " ('f', 'f', 'm', 'm', 'm', 'f'),\n",
       " ('f', 'f', 'm', 'm', 'f', 'm'),\n",
       " ('f', 'f', 'm', 'f', 'm', 'm'),\n",
       " ('f', 'f', 'm', 'f', 'm', 'm'),\n",
       " ('f', 'f', 'm', 'm', 'm', 'f'),\n",
       " ('f', 'f', 'm', 'm', 'f', 'm'),\n",
       " ('f', 'f', 'm', 'm', 'm', 'f'),\n",
       " ('f', 'f', 'm', 'm', 'f', 'm'),\n",
       " ('f', 'f', 'm', 'f', 'm', 'm'),\n",
       " ('f', 'f', 'm', 'f', 'm', 'm'),\n",
       " ('f', 'f', 'f', 'm', 'm', 'm'),\n",
       " ('f', 'f', 'f', 'm', 'm', 'm'),\n",
       " ('f', 'f', 'f', 'm', 'm', 'm'),\n",
       " ('f', 'f', 'f', 'm', 'm', 'm'),\n",
       " ('f', 'f', 'f', 'm', 'm', 'm'),\n",
       " ('f', 'f', 'f', 'm', 'm', 'm'),\n",
       " ('f', 'm', 'm', 'm', 'f', 'f'),\n",
       " ('f', 'm', 'm', 'm', 'f', 'f'),\n",
       " ('f', 'm', 'm', 'f', 'm', 'f'),\n",
       " ('f', 'm', 'm', 'f', 'f', 'm'),\n",
       " ('f', 'm', 'm', 'f', 'm', 'f'),\n",
       " ('f', 'm', 'm', 'f', 'f', 'm'),\n",
       " ('f', 'm', 'm', 'm', 'f', 'f'),\n",
       " ('f', 'm', 'm', 'm', 'f', 'f'),\n",
       " ('f', 'm', 'm', 'f', 'm', 'f'),\n",
       " ('f', 'm', 'm', 'f', 'f', 'm'),\n",
       " ('f', 'm', 'm', 'f', 'm', 'f'),\n",
       " ('f', 'm', 'm', 'f', 'f', 'm'),\n",
       " ('f', 'm', 'f', 'm', 'm', 'f'),\n",
       " ('f', 'm', 'f', 'm', 'f', 'm'),\n",
       " ('f', 'm', 'f', 'm', 'm', 'f'),\n",
       " ('f', 'm', 'f', 'm', 'f', 'm'),\n",
       " ('f', 'm', 'f', 'f', 'm', 'm'),\n",
       " ('f', 'm', 'f', 'f', 'm', 'm'),\n",
       " ('f', 'm', 'f', 'm', 'm', 'f'),\n",
       " ('f', 'm', 'f', 'm', 'f', 'm'),\n",
       " ('f', 'm', 'f', 'm', 'm', 'f'),\n",
       " ('f', 'm', 'f', 'm', 'f', 'm'),\n",
       " ('f', 'm', 'f', 'f', 'm', 'm'),\n",
       " ('f', 'm', 'f', 'f', 'm', 'm'),\n",
       " ('f', 'm', 'm', 'm', 'f', 'f'),\n",
       " ('f', 'm', 'm', 'm', 'f', 'f'),\n",
       " ('f', 'm', 'm', 'f', 'm', 'f'),\n",
       " ('f', 'm', 'm', 'f', 'f', 'm'),\n",
       " ('f', 'm', 'm', 'f', 'm', 'f'),\n",
       " ('f', 'm', 'm', 'f', 'f', 'm'),\n",
       " ('f', 'm', 'm', 'm', 'f', 'f'),\n",
       " ('f', 'm', 'm', 'm', 'f', 'f'),\n",
       " ('f', 'm', 'm', 'f', 'm', 'f'),\n",
       " ('f', 'm', 'm', 'f', 'f', 'm'),\n",
       " ('f', 'm', 'm', 'f', 'm', 'f'),\n",
       " ('f', 'm', 'm', 'f', 'f', 'm'),\n",
       " ('f', 'm', 'f', 'm', 'm', 'f'),\n",
       " ('f', 'm', 'f', 'm', 'f', 'm'),\n",
       " ('f', 'm', 'f', 'm', 'm', 'f'),\n",
       " ('f', 'm', 'f', 'm', 'f', 'm'),\n",
       " ('f', 'm', 'f', 'f', 'm', 'm'),\n",
       " ('f', 'm', 'f', 'f', 'm', 'm'),\n",
       " ('f', 'm', 'f', 'm', 'm', 'f'),\n",
       " ('f', 'm', 'f', 'm', 'f', 'm'),\n",
       " ('f', 'm', 'f', 'm', 'm', 'f'),\n",
       " ('f', 'm', 'f', 'm', 'f', 'm'),\n",
       " ('f', 'm', 'f', 'f', 'm', 'm'),\n",
       " ('f', 'm', 'f', 'f', 'm', 'm'),\n",
       " ('f', 'm', 'm', 'm', 'f', 'f'),\n",
       " ('f', 'm', 'm', 'm', 'f', 'f'),\n",
       " ('f', 'm', 'm', 'f', 'm', 'f'),\n",
       " ('f', 'm', 'm', 'f', 'f', 'm'),\n",
       " ('f', 'm', 'm', 'f', 'm', 'f'),\n",
       " ('f', 'm', 'm', 'f', 'f', 'm'),\n",
       " ('f', 'm', 'm', 'm', 'f', 'f'),\n",
       " ('f', 'm', 'm', 'm', 'f', 'f'),\n",
       " ('f', 'm', 'm', 'f', 'm', 'f'),\n",
       " ('f', 'm', 'm', 'f', 'f', 'm'),\n",
       " ('f', 'm', 'm', 'f', 'm', 'f'),\n",
       " ('f', 'm', 'm', 'f', 'f', 'm'),\n",
       " ('f', 'm', 'f', 'm', 'm', 'f'),\n",
       " ('f', 'm', 'f', 'm', 'f', 'm'),\n",
       " ('f', 'm', 'f', 'm', 'm', 'f'),\n",
       " ('f', 'm', 'f', 'm', 'f', 'm'),\n",
       " ('f', 'm', 'f', 'f', 'm', 'm'),\n",
       " ('f', 'm', 'f', 'f', 'm', 'm'),\n",
       " ('f', 'm', 'f', 'm', 'm', 'f'),\n",
       " ('f', 'm', 'f', 'm', 'f', 'm'),\n",
       " ('f', 'm', 'f', 'm', 'm', 'f'),\n",
       " ('f', 'm', 'f', 'm', 'f', 'm'),\n",
       " ('f', 'm', 'f', 'f', 'm', 'm'),\n",
       " ('f', 'm', 'f', 'f', 'm', 'm'),\n",
       " ('f', 'f', 'm', 'm', 'm', 'f'),\n",
       " ('f', 'f', 'm', 'm', 'f', 'm'),\n",
       " ('f', 'f', 'm', 'm', 'm', 'f'),\n",
       " ('f', 'f', 'm', 'm', 'f', 'm'),\n",
       " ('f', 'f', 'm', 'f', 'm', 'm'),\n",
       " ('f', 'f', 'm', 'f', 'm', 'm'),\n",
       " ('f', 'f', 'm', 'm', 'm', 'f'),\n",
       " ('f', 'f', 'm', 'm', 'f', 'm'),\n",
       " ('f', 'f', 'm', 'm', 'm', 'f'),\n",
       " ('f', 'f', 'm', 'm', 'f', 'm'),\n",
       " ('f', 'f', 'm', 'f', 'm', 'm'),\n",
       " ('f', 'f', 'm', 'f', 'm', 'm'),\n",
       " ('f', 'f', 'm', 'm', 'm', 'f'),\n",
       " ('f', 'f', 'm', 'm', 'f', 'm'),\n",
       " ('f', 'f', 'm', 'm', 'm', 'f'),\n",
       " ('f', 'f', 'm', 'm', 'f', 'm'),\n",
       " ('f', 'f', 'm', 'f', 'm', 'm'),\n",
       " ('f', 'f', 'm', 'f', 'm', 'm'),\n",
       " ('f', 'f', 'f', 'm', 'm', 'm'),\n",
       " ('f', 'f', 'f', 'm', 'm', 'm'),\n",
       " ('f', 'f', 'f', 'm', 'm', 'm'),\n",
       " ('f', 'f', 'f', 'm', 'm', 'm'),\n",
       " ('f', 'f', 'f', 'm', 'm', 'm'),\n",
       " ('f', 'f', 'f', 'm', 'm', 'm'),\n",
       " ('f', 'f', 'm', 'm', 'm', 'f'),\n",
       " ('f', 'f', 'm', 'm', 'f', 'm'),\n",
       " ('f', 'f', 'm', 'm', 'm', 'f'),\n",
       " ('f', 'f', 'm', 'm', 'f', 'm'),\n",
       " ('f', 'f', 'm', 'f', 'm', 'm'),\n",
       " ('f', 'f', 'm', 'f', 'm', 'm'),\n",
       " ('f', 'f', 'm', 'm', 'm', 'f'),\n",
       " ('f', 'f', 'm', 'm', 'f', 'm'),\n",
       " ('f', 'f', 'm', 'm', 'm', 'f'),\n",
       " ('f', 'f', 'm', 'm', 'f', 'm'),\n",
       " ('f', 'f', 'm', 'f', 'm', 'm'),\n",
       " ('f', 'f', 'm', 'f', 'm', 'm'),\n",
       " ('f', 'f', 'm', 'm', 'm', 'f'),\n",
       " ('f', 'f', 'm', 'm', 'f', 'm'),\n",
       " ('f', 'f', 'm', 'm', 'm', 'f'),\n",
       " ('f', 'f', 'm', 'm', 'f', 'm'),\n",
       " ('f', 'f', 'm', 'f', 'm', 'm'),\n",
       " ('f', 'f', 'm', 'f', 'm', 'm'),\n",
       " ('f', 'f', 'f', 'm', 'm', 'm'),\n",
       " ('f', 'f', 'f', 'm', 'm', 'm'),\n",
       " ('f', 'f', 'f', 'm', 'm', 'm'),\n",
       " ('f', 'f', 'f', 'm', 'm', 'm'),\n",
       " ('f', 'f', 'f', 'm', 'm', 'm'),\n",
       " ('f', 'f', 'f', 'm', 'm', 'm')]"
      ]
     },
     "execution_count": 88,
     "metadata": {},
     "output_type": "execute_result"
    }
   ],
   "source": [
    "sample_mf"
   ]
  },
  {
   "cell_type": "code",
   "execution_count": 89,
   "metadata": {},
   "outputs": [],
   "source": [
    "sample_mf = np.array(sample_mf)"
   ]
  },
  {
   "cell_type": "code",
   "execution_count": 101,
   "metadata": {},
   "outputs": [],
   "source": [
    "filt = []\n",
    "for arr in sample_mf:\n",
    "    add = True\n",
    "    for arr2 in filt:\n",
    "        if \",\".join(arr)==\",\".join(arr2):\n",
    "            add = False\n",
    "    if add: filt.append(arr)"
   ]
  },
  {
   "cell_type": "code",
   "execution_count": 105,
   "metadata": {},
   "outputs": [],
   "source": [
    "sample_mf = np.array(filt)"
   ]
  },
  {
   "cell_type": "code",
   "execution_count": 106,
   "metadata": {},
   "outputs": [
    {
     "data": {
      "text/plain": [
       "(20, 6)"
      ]
     },
     "execution_count": 106,
     "metadata": {},
     "output_type": "execute_result"
    }
   ],
   "source": [
    "sample_mf.shape"
   ]
  },
  {
   "cell_type": "code",
   "execution_count": 107,
   "metadata": {},
   "outputs": [
    {
     "name": "stdout",
     "output_type": "stream",
     "text": [
      "20\n"
     ]
    }
   ],
   "source": [
    "sample_length= len(sample_mf)\n",
    "print(sample_length)"
   ]
  },
  {
   "cell_type": "markdown",
   "metadata": {},
   "source": [
    "#### 1. Calculate the probability that at least 2 out of the first 3 appointments are with female students\n",
    "\n",
    "First, select the first 3 appointment slots and check for \"F\"."
   ]
  },
  {
   "cell_type": "code",
   "execution_count": 108,
   "metadata": {},
   "outputs": [
    {
     "data": {
      "text/plain": [
       "[False,\n",
       " True,\n",
       " True,\n",
       " True,\n",
       " True,\n",
       " True,\n",
       " True,\n",
       " True,\n",
       " True,\n",
       " True,\n",
       " True,\n",
       " True,\n",
       " True,\n",
       " True,\n",
       " True,\n",
       " True,\n",
       " True,\n",
       " True,\n",
       " True,\n",
       " True]"
      ]
     },
     "execution_count": 108,
     "metadata": {},
     "output_type": "execute_result"
    }
   ],
   "source": [
    "first_3_F = [\"f\" in x[0:3] for x in sample_mf]\n",
    "first_3_F"
   ]
  },
  {
   "cell_type": "code",
   "execution_count": 111,
   "metadata": {},
   "outputs": [
    {
     "name": "stdout",
     "output_type": "stream",
     "text": [
      "19\n"
     ]
    }
   ],
   "source": [
    "num_F = len(list(filter(lambda x: x, first_3_F)))\n",
    "print(num_F)"
   ]
  },
  {
   "cell_type": "code",
   "execution_count": 112,
   "metadata": {},
   "outputs": [
    {
     "name": "stdout",
     "output_type": "stream",
     "text": [
      "[False, False, False, False, False, False, False, True, True, True, False, False, False, True, True, True, True, True, True, True]\n"
     ]
    }
   ],
   "source": [
    "F_2plus = [len(list(filter(lambda x: x==\"f\", x[0:3])))>=2 for x in sample_mf]\n",
    "print(F_2plus)"
   ]
  },
  {
   "cell_type": "code",
   "execution_count": 113,
   "metadata": {},
   "outputs": [
    {
     "name": "stdout",
     "output_type": "stream",
     "text": [
      "0.5\n"
     ]
    }
   ],
   "source": [
    "prob_F_2plus = sum([1 for x in F_2plus if x])/len(F_2plus)\n",
    "print(prob_F_2plus)"
   ]
  },
  {
   "cell_type": "markdown",
   "metadata": {},
   "source": [
    "#### 2. Calculate the probability that after 4 appointment slots, all the female students have had an appointment"
   ]
  },
  {
   "cell_type": "code",
   "execution_count": 114,
   "metadata": {},
   "outputs": [
    {
     "data": {
      "text/plain": [
       "['f', 'f', 'f']"
      ]
     },
     "execution_count": 114,
     "metadata": {},
     "output_type": "execute_result"
    }
   ],
   "source": [
    "options[-3:]"
   ]
  },
  {
   "cell_type": "code",
   "execution_count": 115,
   "metadata": {},
   "outputs": [],
   "source": [
    "event = [len(list(filter(lambda x: x==\"f\", x[0:4]))) == 3 for x in sample_mf]"
   ]
  },
  {
   "cell_type": "code",
   "execution_count": 118,
   "metadata": {
    "scrolled": true
   },
   "outputs": [
    {
     "data": {
      "text/plain": [
       "4"
      ]
     },
     "execution_count": 118,
     "metadata": {},
     "output_type": "execute_result"
    }
   ],
   "source": [
    "sum([1 for x in event if x])"
   ]
  },
  {
   "cell_type": "code",
   "execution_count": null,
   "metadata": {},
   "outputs": [],
   "source": []
  },
  {
   "cell_type": "markdown",
   "metadata": {},
   "source": [
    "You noticed that coming up with the sample space was probably the most time-consuming part of the exercise, and it would really become unfeasible to write this down for say, 10 or, even worse, 20 appointments in a row. You'll learn about methods that make this easy in the next lecture!\n",
    "\n",
    "## The Addition Law of Probability\n",
    "At a supermarket, we randomly select customers, and make notes of whether a certain customer owns a Visa card (event A) or an Amex credit card (event B). Some customers own both cards.\n",
    "You can assume that:\n",
    "\n",
    "- P(A) = 0.5\n",
    "- P(B) = 0.4\n",
    "- both A and B = 0.25.\n",
    "\n",
    "1) compute the probability that a selected customer has at least one credit card.\n",
    "\n",
    "2) compute the probability that a selected customer doesn't own any of the mentioned credit cards.\n",
    "\n",
    "3) compute the probability that a customer *only* owns VISA card.\n",
    "\n",
    "(You can use python here, but you don't have to)\n",
    "\n",
    "## Summary\n",
    "\n",
    "In this lab, you got to practice your knowledge on the foundations of probability through working on problems regarding the law of relative frequency, the probability axioms and the addition law of probability."
   ]
  }
 ],
 "metadata": {
  "kernelspec": {
   "display_name": "Python 3",
   "language": "python",
   "name": "python3"
  },
  "language_info": {
   "codemirror_mode": {
    "name": "ipython",
    "version": 3
   },
   "file_extension": ".py",
   "mimetype": "text/x-python",
   "name": "python",
   "nbconvert_exporter": "python",
   "pygments_lexer": "ipython3",
   "version": "3.6.6"
  }
 },
 "nbformat": 4,
 "nbformat_minor": 2
}
